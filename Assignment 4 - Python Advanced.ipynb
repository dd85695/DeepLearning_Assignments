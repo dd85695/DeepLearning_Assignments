{
 "cells": [
  {
   "cell_type": "markdown",
   "metadata": {},
   "source": [
    "# Assignment 4 Questions"
   ]
  },
  {
   "cell_type": "markdown",
   "metadata": {},
   "source": [
    "## Problem Statement"
   ]
  },
  {
   "cell_type": "markdown",
   "metadata": {},
   "source": [
    "Q.1 Given a sequence of n values x1, x2, ..., xn and a window size k>0, the k-th moving average of\n",
    "the given sequence is defined as follows:\n",
    "\n",
    "The moving average sequence has n-k+1 elements as shown below.\n",
    "The moving averages with k=4 of a ten-value sequence (n=10) is shown below\n",
    "\n",
    "    i 1 2 3 4 5 6 7 8 9 10\n",
    "    ===== == == == == == == == == == ==\n",
    "    Input 10 20 30 40 50 60 70 80 90 100\n",
    "    y1 25 = (10+20+30+40)/4\n",
    "    y2 35 = (20+30+40+50)/4\n",
    "    y3 45 = (30+40+50+60)/4\n",
    "    y4 55 = (40+50+60+70)/4\n",
    "    y5 65 = (50+60+70+80)/4\n",
    "    y6 75 = (60+70+80+90)/4\n",
    "    y7 85 = (70+80+90+100)/4\n",
    "\n",
    "Thus, the moving average sequence has n-k+1=10-4+1=7 values.\n",
    "\n",
    "Write a function to find moving average in an array over a window:\n",
    "\n",
    "Test it over [3, 5, 7, 2, 8, 10, 11, 65, 72, 81, 99, 100, 150] and window of 3."
   ]
  },
  {
   "cell_type": "code",
   "execution_count": 11,
   "metadata": {},
   "outputs": [
    {
     "name": "stdout",
     "output_type": "stream",
     "text": [
      "[5.0, 4.67, 5.67, 6.67, 9.67, 28.67, 49.33, 72.67, 84.0, 93.33, 116.33]\n"
     ]
    }
   ],
   "source": [
    "def mov_avg(lst, window_size): \n",
    "    m_avg = []\n",
    "    for i in range(len(lst) - window_size + 1): \n",
    "        avg = round(sum(lst[i : i + window_size]) / window_size, 2) \n",
    "        m_avg.append(avg)\n",
    "    return m_avg\n",
    "\n",
    "a = mov_avg([3, 5, 7, 2, 8, 10, 11, 65, 72, 81, 99, 100, 150], 3) \n",
    "print(a)"
   ]
  },
  {
   "cell_type": "markdown",
   "metadata": {},
   "source": [
    "Q.2 How-to-count-distance-to-the-previous-zero\n",
    "For each value, count the difference back to the previous zero (or the start of the Series,\n",
    "whichever is closer)\n",
    "create a new column 'Y'\n",
    "Consider a DataFrame df where there is an integer column 'X'\n",
    "    \n",
    "    import pandas as pd\n",
    "    df = pd.DataFrame({'X': [7, 2, 0, 3, 4, 2, 5, 0, 3, 4]})"
   ]
  },
  {
   "cell_type": "code",
   "execution_count": 6,
   "metadata": {},
   "outputs": [
    {
     "name": "stdout",
     "output_type": "stream",
     "text": [
      "   X  Y\n",
      "0  7  1\n",
      "1  2  2\n",
      "2  0  0\n",
      "3  3  1\n",
      "4  4  2\n",
      "5  2  3\n",
      "6  5  4\n",
      "7  0  0\n",
      "8  3  1\n",
      "9  4  2\n"
     ]
    }
   ],
   "source": [
    "import pandas as pd\n",
    "\n",
    "df = pd.DataFrame({'X' : [7, 2, 0, 3, 4, 2, 5, 0, 3, 4]})  \n",
    "y = []\n",
    "x =0    \n",
    "for i in range(len(df['X'])):\n",
    "    \n",
    "    if df['X'][i] == 0:\n",
    "        y.append(0)\n",
    "        x = i + 1\n",
    "    \n",
    "    if i + 1 > x:\n",
    "        y.append(i + 1 - x)\n",
    "\n",
    "df['Y'] = y\n",
    "print(df)"
   ]
  },
  {
   "cell_type": "markdown",
   "metadata": {},
   "source": [
    "Q.3 Create a DatetimeIndex that contains each business day of 2015 and use it to index a Series of\n",
    "random numbers."
   ]
  },
  {
   "cell_type": "code",
   "execution_count": 2,
   "metadata": {},
   "outputs": [
    {
     "name": "stdout",
     "output_type": "stream",
     "text": [
      "2015-01-01    0.589940\n",
      "2015-01-02    0.143668\n",
      "2015-01-05    0.696468\n",
      "2015-01-06    0.345296\n",
      "2015-01-07    0.704658\n",
      "2015-01-08    0.744554\n",
      "2015-01-09    0.562242\n",
      "2015-01-12    0.239131\n",
      "2015-01-13    0.761692\n",
      "2015-01-14    0.659247\n",
      "2015-01-15    0.788521\n",
      "2015-01-16    0.971011\n",
      "2015-01-19    0.768134\n",
      "2015-01-20    0.953770\n",
      "2015-01-21    0.425583\n",
      "2015-01-22    0.193751\n",
      "2015-01-23    0.014223\n",
      "2015-01-26    0.432672\n",
      "2015-01-27    0.379702\n",
      "2015-01-28    0.731936\n",
      "2015-01-29    0.816722\n",
      "2015-01-30    0.515860\n",
      "2015-02-02    0.485522\n",
      "2015-02-03    0.537958\n",
      "2015-02-04    0.839633\n",
      "2015-02-05    0.502261\n",
      "2015-02-06    0.546323\n",
      "2015-02-09    0.606872\n",
      "2015-02-10    0.614704\n",
      "2015-02-11    0.027881\n",
      "                ...   \n",
      "2015-11-20    0.610146\n",
      "2015-11-23    0.603548\n",
      "2015-11-24    0.962597\n",
      "2015-11-25    0.087932\n",
      "2015-11-26    0.839197\n",
      "2015-11-27    0.171822\n",
      "2015-11-30    0.591014\n",
      "2015-12-01    0.350106\n",
      "2015-12-02    0.116189\n",
      "2015-12-03    0.190390\n",
      "2015-12-04    0.333743\n",
      "2015-12-07    0.498817\n",
      "2015-12-08    0.043162\n",
      "2015-12-09    0.116294\n",
      "2015-12-10    0.450683\n",
      "2015-12-11    0.922658\n",
      "2015-12-14    0.688076\n",
      "2015-12-15    0.539304\n",
      "2015-12-16    0.680038\n",
      "2015-12-17    0.202761\n",
      "2015-12-18    0.867677\n",
      "2015-12-21    0.065363\n",
      "2015-12-22    0.718458\n",
      "2015-12-23    0.206254\n",
      "2015-12-24    0.303682\n",
      "2015-12-25    0.678055\n",
      "2015-12-28    0.924559\n",
      "2015-12-29    0.621973\n",
      "2015-12-30    0.914233\n",
      "2015-12-31    0.035069\n",
      "Freq: B, Length: 261, dtype: float64\n"
     ]
    }
   ],
   "source": [
    "import pandas as pd\n",
    "import numpy as np\n",
    "dti = pd.date_range(start='2015-01-01', end='2015-12-31', freq='B') \n",
    "s = pd.Series(np.random.rand(len(dti)), index=dti)\n",
    "print(s)"
   ]
  },
  {
   "cell_type": "markdown",
   "metadata": {},
   "source": [
    "Q.4 "
   ]
  }
 ],
 "metadata": {
  "kernelspec": {
   "display_name": "Python 3",
   "language": "python",
   "name": "python3"
  },
  "language_info": {
   "codemirror_mode": {
    "name": "ipython",
    "version": 3
   },
   "file_extension": ".py",
   "mimetype": "text/x-python",
   "name": "python",
   "nbconvert_exporter": "python",
   "pygments_lexer": "ipython3",
   "version": "3.6.8"
  }
 },
 "nbformat": 4,
 "nbformat_minor": 4
}
